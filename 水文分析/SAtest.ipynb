{
 "cells": [
  {
   "cell_type": "code",
   "execution_count": 1,
   "metadata": {},
   "outputs": [],
   "source": [
    "import arcpy\n",
    "import Files as F"
   ]
  },
  {
   "cell_type": "code",
   "execution_count": 10,
   "metadata": {},
   "outputs": [],
   "source": [
    "def SlopeAcc(DemPath,DirPath,OutputPath,Threshold):\n",
    "    \"\"\"\n",
    "    基于优先满水算法提取河网，再计算以河网为源的坡度累积量\n",
    "    \"\"\"\n",
    "    arcpy.env.overwriteOutput = True\n",
    "    dir,_ = F.get_file_name_and_path(DirPath)\n",
    "    dirname = dir.split(\".tif\")[0]\n",
    "    dem,_ = F.get_file_name_and_path(DemPath)\n",
    "    demname = dem.split(\".tif\")[0]\n",
    "    #定义投影\n",
    "    desc = arcpy.Describe(DemPath)\n",
    "    spatial_reference = desc.spatialReference\n",
    "    arcpy.DefineProjection_management(DirPath, spatial_reference)\n",
    "    #计算流量\n",
    "    acc = OutputPath + \"\\\\acc_\" + demname + \".tif\"\n",
    "    out_accumulation_raster = arcpy.sa.FlowAccumulation(DirPath, None, \"FLOAT\", \"D8\")\n",
    "    out_accumulation_raster.save(acc)\n",
    "    #提取河网\n",
    "    inRaster = arcpy.Raster(acc)\n",
    "    stream = OutputPath + \"\\\\Stream_\" + str(Threshold) + \"_\" + demname + \".tif\"\n",
    "    out_raster = arcpy.sa.Con(inRaster > Threshold, 1)\n",
    "    out_raster.save(stream)\n",
    "    #栅格河网矢量化\n",
    "    stream_vector = OutputPath + \"\\\\Drainage_\" + str(Threshold) + \"_\" + demname\n",
    "    arcpy.sa.StreamToFeature(stream, DirPath, stream_vector, \"NO_SIMPLIFY\")\n",
    "    #计算坡度\n",
    "    slope = OutputPath + \"\\\\slope_\" + demname + \".tif\"\n",
    "    out_raster = arcpy.sa.Slope(DemPath, \"DEGREE\", 1, \"PLANAR\", \"METER\")\n",
    "    out_raster.save(slope)\n",
    "    #坡度加一个很小的值\n",
    "    inSlope = arcpy.Raster(slope)\n",
    "    outSlope = OutputPath + \"\\\\slope1_\" + demname + \".tif\"\n",
    "    out_raster = arcpy.sa.Plus(inSlope, 1E-07)\n",
    "    out_raster.save(outSlope)\n",
    "    #坡度累积\n",
    "    slope_acc =  OutputPath + \"\\\\Slope_acc_\" + str(Threshold) + \"_\" + demname + \".tif\"\n",
    "    out_distance_accumulation_raster = arcpy.sa.DistanceAccumulation(stream_vector, None, None, outSlope , None, \"BINARY 1 -30 30\", None, \"BINARY 1 45\", None, None, None, None, None, None, '', \"PLANAR\")\n",
    "    out_distance_accumulation_raster.save(slope_acc)\n"
   ]
  },
  {
   "cell_type": "code",
   "execution_count": 11,
   "metadata": {},
   "outputs": [],
   "source": [
    "DemPath = r\"E:\\CHY\\data\\dem\\600\\0.tif\"\n",
    "DirPath = r\"D:\\proproject\\geoprocessing\\中间数据1\\dir0.tif\"\n",
    "OutputPath = r\"D:\\proproject\\geoprocessing\\New Folder\"\n",
    "Threshold = 1200\n",
    "SlopeAcc(DemPath,DirPath,OutputPath,Threshold)\n"
   ]
  },
  {
   "cell_type": "code",
   "execution_count": null,
   "metadata": {},
   "outputs": [],
   "source": []
  }
 ],
 "metadata": {
  "kernelspec": {
   "display_name": "Python 3",
   "language": "python",
   "name": "python3"
  },
  "language_info": {
   "codemirror_mode": {
    "name": "ipython",
    "version": 3
   },
   "file_extension": ".py",
   "mimetype": "text/x-python",
   "name": "python",
   "nbconvert_exporter": "python",
   "pygments_lexer": "ipython3",
   "version": "3.9.11"
  }
 },
 "nbformat": 4,
 "nbformat_minor": 2
}
