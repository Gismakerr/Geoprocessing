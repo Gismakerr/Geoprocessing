{
 "cells": [
  {
   "cell_type": "code",
   "execution_count": 15,
   "metadata": {},
   "outputs": [],
   "source": [
    "import arcpy\n",
    "import Files as F\n",
    "def LandfromUnit(DemPath,OutputPath,Buffer_distance):\n",
    "    \"\"\"\n",
    "        提取以反地形地表汇点为倾斜点的山体单元：\n",
    "        1.计算不填洼DEM的流向\n",
    "        2.计算sink栅格\n",
    "        3.sink栅格转汇矢量点\n",
    "        4.以汇为中心做缓冲区\n",
    "        5.缓冲区标识汇\n",
    "        6.以具有标识信息的汇作为倾斜点，计算集水区栅格\n",
    "        7.集水区栅格转矢量，得到山体单元\n",
    "    \"\"\"\n",
    "    arcpy.env.overwriteOutput = True\n",
    "    dem,_ = F.get_file_name_and_path(DemPath)\n",
    "    demname = dem.split(\".tif\")[0]\n",
    "    \n",
    "    #计算不填洼DEM的流向\n",
    "    dir = OutputPath + \"//dir_D8_\" + dem\n",
    "    out_flow_direction_raster = arcpy.sa.FlowDirection(DemPath, \"NORMAL\", None, \"D8\")\n",
    "    out_flow_direction_raster.save(dir)\n",
    "    #计算sink栅格\n",
    "    sink = OutputPath + \"//sink_\" + dem\n",
    "    out_raster = arcpy.sa.Sink(dir); \n",
    "    out_raster.save(sink)\n",
    "    #sink栅格转汇矢量点\n",
    "    Hui = OutputPath + \"//汇点_\" + demname \n",
    "    arcpy.conversion.RasterToPoint(sink, Hui, \"Value\")\n",
    "    #以汇为中心做缓冲区\n",
    "    Hui_buffer = OutputPath + \"//汇点_Buffer_\" + str(Buffer_distance) + demname\n",
    "    arcpy.analysis.PairwiseBuffer(Hui, Hui_buffer, Buffer_distance, \"ALL\", None, \"PLANAR\", \"0 Meters\")\n",
    "    #多部件到单部件\n",
    "    Buffer_single = OutputPath + \"//汇点_Buffer_\" + str(Buffer_distance) + \"_single_\" + demname\n",
    "    arcpy.management.MultipartToSinglepart(Hui_buffer, Buffer_single)\n",
    "    #计算字段\n",
    "    arcpy.management.CalculateField(Buffer_single, \"ORIG_FID\", \"!FID!\", \"PYTHON3\", '', \"TEXT\", \"NO_ENFORCE_DOMAINS\")\n",
    "    #缓冲区标识汇\n",
    "    Pour = OutputPath + \"//Pour_\" + demname\n",
    "    arcpy.analysis.Intersect([Hui,Buffer_single], Pour, \"ALL\", None, \"INPUT\")\n",
    "    #以具有标识信息的汇作为倾斜点，计算集水区栅格\n",
    "    Watershed = OutputPath + \"//watershed_\" + dem\n",
    "    out_raster = arcpy.sa.Watershed(dir, Pour, \"ORIG_FID\")\n",
    "    out_raster.save(Watershed)\n",
    "    #集水区栅格转矢量，得到山体单元\n",
    "    LUnit = OutputPath + \"//集水区_\" + dem\n",
    "    arcpy.conversion.RasterToPolygon(Watershed, LUnit, \"SIMPLIFY\", \"Value\", \"SINGLE_OUTER_PART\", None)\n",
    "    print(LUnit + \"已创建\")"
   ]
  },
  {
   "cell_type": "code",
   "execution_count": 16,
   "metadata": {},
   "outputs": [
    {
     "name": "stdout",
     "output_type": "stream",
     "text": [
      "D:\\proproject\\geoprocessing\\New Folder (5)//集水区_0.tif已创建\n"
     ]
    }
   ],
   "source": [
    "DemPath = r\"E:\\CHY\\data\\dem\\600\\0.tif\"\n",
    "OutputPath = r\"D:\\proproject\\geoprocessing\\New Folder (5)\"\n",
    "Buffer_distance = 60\n",
    "LandfromUnit(DemPath,OutputPath,Buffer_distance)"
   ]
  },
  {
   "cell_type": "code",
   "execution_count": null,
   "metadata": {},
   "outputs": [],
   "source": []
  }
 ],
 "metadata": {
  "kernelspec": {
   "display_name": "Python 3",
   "language": "python",
   "name": "python3"
  },
  "language_info": {
   "codemirror_mode": {
    "name": "ipython",
    "version": 3
   },
   "file_extension": ".py",
   "mimetype": "text/x-python",
   "name": "python",
   "nbconvert_exporter": "python",
   "pygments_lexer": "ipython3",
   "version": "3.9.11"
  }
 },
 "nbformat": 4,
 "nbformat_minor": 2
}
