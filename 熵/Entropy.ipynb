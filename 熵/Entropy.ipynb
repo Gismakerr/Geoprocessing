{
 "cells": [
  {
   "cell_type": "code",
   "execution_count": 1,
   "metadata": {},
   "outputs": [],
   "source": [
    "import arcpy\n",
    "import numpy as np\n",
    "import math\n",
    "#import cv2 as cv\n",
    "import matplotlib\n",
    "import matplotlib.pyplot as plt\n",
    "from scipy.stats import wasserstein_distance\n",
    "from scipy.stats import energy_distance\n",
    "from scipy.stats import entropy as shannon_entropy\n",
    "import os\n",
    "from arcpy.sa import *"
   ]
  },
  {
   "cell_type": "code",
   "execution_count": 6,
   "metadata": {},
   "outputs": [],
   "source": [
    "def readtensor_1d(filename):\n",
    "    raster=arcpy.Raster(filename)\n",
    "    terrain = arcpy.RasterToNumPyArray(raster)\n",
    "    terrain=terrain.reshape([terrain.size])\n",
    "    if terrain.min() < 1:\n",
    "        terrain-=terrain.min()\n",
    "        terrain+=1\n",
    "    return terrain"
   ]
  },
  {
   "cell_type": "code",
   "execution_count": 8,
   "metadata": {},
   "outputs": [],
   "source": [
    "def calShanon(tensor):\n",
    "    c=np.bincount(tensor)\n",
    "    c=c[c.nonzero()] #得到类型的histogram\n",
    "    s = shannon_entropy(c/c.size)\n",
    "    e = math.log(tensor.size) - (c * np.log(c)).sum() /tensor.size\n",
    "    return s, e"
   ]
  },
  {
   "cell_type": "code",
   "execution_count": 9,
   "metadata": {},
   "outputs": [],
   "source": [
    "def calemd_enegery(tensor):\n",
    "    c=np.bincount(tensor)\n",
    "    c=c[c.nonzero()] #得到类型的histogram\n",
    "    types=c.size\n",
    "    \n",
    "    #\n",
    "    grid=np.zeros([types, c.max()], dtype=np.int32)\n",
    "    for i in range(types):\n",
    "        grid[i, 0:c[i]] = 1\n",
    "\n",
    "    h = np.sum(grid, 0).astype(np.float32) #土堆分布\n",
    "\n",
    "    h1 = np.zeros(tensor.size, np.float32)\n",
    "    w = np.log(np.arange(tensor.size) + 1) #土堆密度\n",
    "    \n",
    "    for i in range(h.size):\n",
    "        h1[i] = h[i]\n",
    "    h1 = h1 * w #土堆总量\n",
    "    \n",
    "    #h2 = np.ones(h1.size) #土堆分布h1\n",
    "    \n",
    "    h2 = np.zeros(h1.size)\n",
    "    h2[0] = h1.sum()\n",
    "    \n",
    "    distance=wasserstein_distance(h1, h2, w, w)\n",
    "    ##配置熵的计算\n",
    "    N=np.log(np.arange(tensor.size)+1)\n",
    "    E=N.sum()-h1.sum()\n",
    "\n",
    "    distance=energy_distance(h1, h2, w, w)\n",
    "    dist_norm = 1 - distance/math.sqrt(2)\n",
    "    return distance, dist_norm,E"
   ]
  },
  {
   "cell_type": "code",
   "execution_count": 4,
   "metadata": {},
   "outputs": [],
   "source": [
    "def CalEntropy1(reference, method):\n",
    "    \"\"\"计算香农熵和配置熵\n",
    "\n",
    "    Args:\n",
    "        reference (_type_): _description_\n",
    "        method (_type_): _description_\n",
    "    \"\"\"\n",
    "    reference_dem = readtensor_1d(reference)\n",
    "    reference_S = calShanon(reference_dem)\n",
    "    reference_C = calemd_enegery(reference_dem)\n",
    "    for dem in method:\n",
    "        method_dem = readtensor_1d(dem)\n",
    "        method_S = calShanon(method_dem)\n",
    "        method_C = calemd_enegery(method_dem)\n",
    "        diff_S = method_S[0] - reference_S[0]\n",
    "        diff_C = method_C[2] - reference_C[2] \n",
    "        \n",
    "        print(dem.split(\"\\\\\")[-1]  + \"香农熵：\" + str(diff_S))\n",
    "        print(dem.split(\"\\\\\")[-1] + \"配置熵：\" + str(diff_C))\n",
    "\n",
    "def CalEntropy2(folder, name):\n",
    "    \"\"\"批处理计算香农熵和配置熵\n",
    "\n",
    "    Args:\n",
    "        folder (_type_): _description_\n",
    "        name (_type_): _description_\n",
    "    \"\"\"\n",
    "    reference_folder = folder + \"\\\\\" + \"reference\"\n",
    "    arcpy.env.workspace = reference_folder\n",
    "    reference_rasters = arcpy.ListRasters()\n",
    "    for i in range(len(reference_rasters)):\n",
    "        reference_dem = reference_folder + \"\\\\\" + reference_rasters[i]\n",
    "        method_dems = []\n",
    "        for n in name:\n",
    "            method_dem = folder + \"\\\\\" + n + \"\\\\\" + reference_rasters[i]\n",
    "            method_dems.append(method_dem)\n",
    "        CalEntropy1(reference_dem,method_dems)"
   ]
  },
  {
   "cell_type": "code",
   "execution_count": null,
   "metadata": {},
   "outputs": [],
   "source": [
    "folder = r\"E:\\CCHHYY\\超分\\大修\\添加实验\\tfrsa\\熵计算\"\n",
    "name = [\"TfaSR\"]\n",
    "CalEntropy2(folder, name)"
   ]
  }
 ],
 "metadata": {
  "kernelspec": {
   "display_name": "Python 3",
   "language": "python",
   "name": "python3"
  },
  "language_info": {
   "codemirror_mode": {
    "name": "ipython",
    "version": 3
   },
   "file_extension": ".py",
   "mimetype": "text/x-python",
   "name": "python",
   "nbconvert_exporter": "python",
   "pygments_lexer": "ipython3",
   "version": "3.9.11"
  }
 },
 "nbformat": 4,
 "nbformat_minor": 2
}
