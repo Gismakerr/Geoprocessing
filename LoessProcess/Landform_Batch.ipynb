{
 "cells": [
  {
   "cell_type": "code",
   "execution_count": 2,
   "metadata": {},
   "outputs": [],
   "source": [
    "import arcpy\n",
    "arcpy.env.overwriteOutput = True\n",
    "import arcpy.analysis\n",
    "import os"
   ]
  },
  {
   "cell_type": "code",
   "execution_count": 31,
   "metadata": {},
   "outputs": [],
   "source": [
    "def Clip_Raster(Folder,Raster,OutputPath):\n",
    "    \"\"\"\n",
    "    遍历一个文件夹下的所有栅格，裁剪另外一个栅格\n",
    "    \"\"\"\n",
    "    arcpy.env.workspace = Folder\n",
    "    l = arcpy.ListRasters()\n",
    "    for i in range(len(l)):\n",
    "        OutputRaster = OutputPath + \"\\\\\" + l[i]\n",
    "        description = arcpy.Describe(l[i])\n",
    "        extent = str(description.extent.XMin) + \" \" + str(description.extent.YMin) + \" \" + str(description.extent.XMax) + \" \" + str(description.extent.YMax)\n",
    "        arcpy.management.Clip(Raster, extent, OutputRaster, \"0.tif\", \"#\", \"NONE\", \"MAINTAIN_EXTENT\")"
   ]
  },
  {
   "cell_type": "code",
   "execution_count": null,
   "metadata": {},
   "outputs": [],
   "source": [
    "def Clip_Rasters(Raster,InFolder,OutFolder):\n",
    "    \"\"\"\n",
    "        似乎和上面一样\n",
    "    \"\"\"\n",
    "    arcpy.env.workspace = InFolder\n",
    "    l = arcpy.ListRasters()\n",
    "    for i in range(len(l)):\n",
    "        OutRaster = OutFolder + \"\\\\\" + l[i]\n",
    "        description = arcpy.Describe(l[i])\n",
    "        extent = str(description.extent.XMin) + \" \" + str(description.extent.YMin) + \" \" + str(description.extent.XMax) + \" \" + str(description.extent.YMax)\n",
    "        arcpy.management.Clip(Raster, extent, OutRaster, \"0.tif\", \"3\", \"NONE\", \"MAINTAIN_EXTENT\")"
   ]
  },
  {
   "cell_type": "code",
   "execution_count": 2,
   "metadata": {},
   "outputs": [],
   "source": [
    "def clip(input_data,clip_feature,worksapce):\n",
    "    if input_data[-4:] == \".tif\":\n",
    "        with arcpy.da.SearchCursor(clip_feature,[\"id\",\"SHAPE@\"]) as cursor:\n",
    "                for row in cursor:\n",
    "                    outExtractByMask = ExtractByMask(input_data, row[1])\n",
    "                    outExtractByMask.save(worksapce+\"\\\\\"+str(row[0])+\".tif\")\n",
    "    elif input_data[-4:] == \".shp\":\n",
    "        with arcpy.da.SearchCursor(clip_feature,[\"id\",\"SHAPE@\"]) as cursor:\n",
    "                for row in cursor:\n",
    "                    arcpy.Clip_analysis(input_data, row[1], worksapce+\"\\\\\"+str(row[0])+\".shp\")\n",
    "\n"
   ]
  },
  {
   "cell_type": "code",
   "execution_count": 10,
   "metadata": {},
   "outputs": [],
   "source": [
    "import arcpy.management\n",
    "沟间地_C = r\"D:\\proproject\\黄土地貌分类729\\沟间地提取\\大模型\\沟间地\\Clip\"\n",
    "#山体单元_C = r\"D:\\proproject\\黄土地貌分类729\\沟间地提取\\大模型\\山体单元\\Clip\"\n",
    "def Delete_Empty(Workspace):\n",
    "    arcpy.env.workspace = Workspace\n",
    "    l = arcpy.ListFeatureClasses()\n",
    "    for i in range(len(l)):\n",
    "        if arcpy.management.GetCount(l[i])[0] == \"0\":\n",
    "            arcpy.management.Delete(l[i])"
   ]
  },
  {
   "cell_type": "code",
   "execution_count": 30,
   "metadata": {},
   "outputs": [],
   "source": [
    "DissolvePath = r\"D:\\proproject\\黄土地貌分类729\\沟间地提取\\大模型\\沟间地\\Dissolve\"\n",
    "for i in range(len(l)):\n",
    "    #arcpy.management.CalculateField(l[i], \"Id\", \"0\")\n",
    "    DissolveFeature = DissolvePath + \"\\\\\" + l[i]\n",
    "    arcpy.management.Dissolve(l[i],DissolveFeature,\"Id\")"
   ]
  },
  {
   "cell_type": "code",
   "execution_count": 33,
   "metadata": {},
   "outputs": [],
   "source": [
    "import arcpy.analysis\n",
    "IntersectionPath = r\"D:\\proproject\\黄土地貌分类729\\沟间地提取\\大模型\\沟间地\\Intersection\"\n",
    "LandformUnitPath = r\"D:\\proproject\\黄土地貌分类729\\沟间地提取\\大模型\\山体单元\\Clip\"\n",
    "for i in range(len(l)):\n",
    "    F_沟间地 = DissolvePath + \"\\\\\" + l[i]\n",
    "    F_山体单元 = LandformUnitPath+ \"\\\\\" + l[i]\n",
    "    IntersectionFeature = IntersectionPath + \"\\\\\" + l[i]\n",
    "    arcpy.analysis.Intersect([F_沟间地,F_山体单元],IntersectionFeature)\n",
    "    arcpy.management.CalculateGeometryAttributes(IntersectionFeature, \"area AREA\", '', \"SQUARE_METERS\", None, \"SAME_AS_INPUT\")"
   ]
  },
  {
   "cell_type": "code",
   "execution_count": 44,
   "metadata": {},
   "outputs": [],
   "source": [
    "import os\n",
    "EliminatePath = r\"D:\\proproject\\黄土地貌分类729\\沟间地提取\\大模型\\沟间地\\Eliminate\"\n",
    "arcpy.env.overwriteOutput = True\n",
    "for i in range(len(l)):\n",
    "    IntersectionFeature = IntersectionPath + \"\\\\\" + l[i]\n",
    "    Eliminateresult = EliminatePath + \"\\\\\" + l[i]\n",
    "    if os.path.exists(Eliminateresult) == False:\n",
    "    \n",
    "        arcpy.management.EliminatePolygonPart(IntersectionFeature, Eliminateresult, \"AREA\", \"2100 SquareMeters\", 0, \"CONTAINED_ONLY\")"
   ]
  },
  {
   "cell_type": "code",
   "execution_count": 45,
   "metadata": {},
   "outputs": [],
   "source": [
    "SmoothPath = r\"D:\\proproject\\黄土地貌分类729\\沟间地提取\\大模型\\沟间地\\Smooth\"\n",
    "for i in range(len(l)):\n",
    "    Eliminateresult = EliminatePath + \"\\\\\" + l[i]\n",
    "    Smoothresult = SmoothPath + \"\\\\\" + l[i]\n",
    "    if os.path.exists(Smoothresult) == False:\n",
    "        arcpy.cartography.SmoothPolygon(Eliminateresult, Smoothresult, \"PAEK\", \"120 Meters\", \"FIXED_ENDPOINT\", \"FLAG_ERRORS\", None)"
   ]
  },
  {
   "cell_type": "code",
   "execution_count": 3,
   "metadata": {},
   "outputs": [],
   "source": [
    "Final_IntersectionPath = r\"D:\\proproject\\黄土地貌分类729\\沟间地提取\\大模型\\沟间地\\实验区域相交\"\n",
    "SmoothPath = r\"D:\\proproject\\黄土地貌分类729\\沟间地提取\\大模型\\沟间地\\Smooth\"\n",
    "arcpy.env.workspace = SmoothPath\n",
    "l = arcpy.ListFeatureClasses()\n",
    "Feature = r\"D:\\鲁方圆\\试验区域\\试验区域\\试验区域.shp\"\n",
    "for i in range(len(l)):\n",
    "    SmoothFeature = SmoothPath + \"\\\\\" + l[i]\n",
    "    OutFeature = Final_IntersectionPath + \"\\\\\" +l[i]\n",
    "    arcpy.analysis.Intersect([SmoothFeature ,Feature],OutFeature)\n",
    "    if arcpy.management.GetCount(OutFeature)[0] == \"0\":\n",
    "        arcpy.management.Delete(OutFeature)"
   ]
  },
  {
   "cell_type": "code",
   "execution_count": 7,
   "metadata": {},
   "outputs": [],
   "source": [
    "Raster = r\"D:\\proproject\\地貌分类模型训练\\不同策略\\DEM+影像+坡度+山体阴影\\结果处理\\result_binary.tif\"\n",
    "ResultPath = r\"D:\\proproject\\黄土地貌分类729\\沟间地提取\\大模型\\沟间地\\实验区域相交\"\n",
    "OutputPath = r\"D:\\proproject\\黄土地貌分类729\\沟间地提取\\大模型\\沟间地\\Result\"\n",
    "arcpy.env.workspace = ResultPath\n",
    "l = arcpy.ListFeatureClasses()\n",
    "for i in range(len(l)):\n",
    "    OutRaster = OutputPath + \"\\\\\" + l[i].split(\".shp\")[0] + \".tif\"\n",
    "    out_raster = arcpy.sa.ZonalStatistics(l[i], \"FID\", Raster, \"MAJORITY\", \"DATA\", \"CURRENT_SLICE\", 90, \"AUTO_DETECT\", \"ARITHMETIC\", 360)\n",
    "    out_raster.save(OutRaster )"
   ]
  },
  {
   "cell_type": "code",
   "execution_count": null,
   "metadata": {},
   "outputs": [],
   "source": [
    "def Process(Workspace,DissolvePath,IntersectionPath,EliminatePath,SmoothPath,Final_IntersectionPath,Feature):\n",
    "    \"\"\"\n",
    "        Workspace是处理完空要素后的地貌单元（沟间地）\n",
    "        每个沟间地要素类融合成一个要素\n",
    "        沟间地再与反地形汇点地貌单元的相交\n",
    "        消除2100平方米\n",
    "        平滑\n",
    "        与实验区域Feature相交\n",
    "    \"\"\"\n",
    "    arcpy.env.workspace = Workspace\n",
    "    l = arcpy.ListFeatureClasses()\n",
    "    for i in range(len(l)):\n",
    "        arcpy.management.CalculateField(l[i], \"Id\", \"0\")\n",
    "        DissolveFeature = DissolvePath + \"\\\\\" + l[i]\n",
    "        arcpy.management.Dissolve(l[i],DissolveFeature,\"Id\")\n",
    "        \n",
    "        F_沟间地 = DissolvePath + \"\\\\\" + l[i]\n",
    "        F_山体单元 = LandformUnitPath+ \"\\\\\" + l[i]\n",
    "        IntersectionFeature = IntersectionPath + \"\\\\\" + l[i]\n",
    "        arcpy.analysis.Intersect([F_沟间地,F_山体单元],IntersectionFeature)\n",
    "        arcpy.management.CalculateGeometryAttributes(IntersectionFeature, \"area AREA\", '', \"SQUARE_METERS\", None, \"SAME_AS_INPUT\")\n",
    "\n",
    "        Eliminateresult = EliminatePath + \"\\\\\" + l[i]\n",
    "        if os.path.exists(Eliminateresult) == False:\n",
    "            arcpy.management.EliminatePolygonPart(IntersectionFeature, Eliminateresult, \"AREA\", \"2100 SquareMeters\", 0, \"CONTAINED_ONLY\")\n",
    "        \n",
    "        Smoothresult = SmoothPath + \"\\\\\" + l[i]\n",
    "        if os.path.exists(Smoothresult) == False:\n",
    "            arcpy.cartography.SmoothPolygon(Eliminateresult, Smoothresult, \"PAEK\", \"120 Meters\", \"FIXED_ENDPOINT\", \"FLAG_ERRORS\", None)\n",
    "\n",
    "        OutFeature = Final_IntersectionPath + \"\\\\\" +l[i]\n",
    "        arcpy.analysis.Intersect([SmoothFeature ,Feature],OutFeature)\n",
    "        if arcpy.management.GetCount(OutFeature)[0] == \"0\":\n",
    "            arcpy.management.Delete(OutFeature)"
   ]
  }
 ],
 "metadata": {
  "kernelspec": {
   "display_name": "ArcGISPro",
   "language": "Python",
   "name": "python3"
  },
  "language_info": {
   "codemirror_mode": {
    "name": "ipython",
    "version": 3
   },
   "file_extension": ".py",
   "mimetype": "text/x-python",
   "name": "python",
   "nbconvert_exporter": "python",
   "pygments_lexer": "ipython3",
   "version": "3.9.11"
  }
 },
 "nbformat": 4,
 "nbformat_minor": 2
}
